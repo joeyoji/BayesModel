{
 "cells": [
  {
   "cell_type": "markdown",
   "id": "4dda9902-765b-41fa-ab53-779f1443e613",
   "metadata": {},
   "source": [
    "# package import"
   ]
  },
  {
   "cell_type": "code",
   "execution_count": 1,
   "id": "07eafba5-4d9e-4e4e-a8b2-eae5d46cb78c",
   "metadata": {},
   "outputs": [
    {
     "name": "stderr",
     "output_type": "stream",
     "text": [
      "WARNING (pytensor.tensor.blas): Using NumPy C-API based implementation for BLAS functions.\n"
     ]
    }
   ],
   "source": [
    "import sys\n",
    "import time\n",
    "\n",
    "import numpy as np\n",
    "import pymc as pm\n",
    "import matplotlib.pyplot as plt\n",
    "sys.path.append('../')\n",
    "from model.pmm import Poisson_Mixture_with_Dirichlet_Gamma_prior"
   ]
  },
  {
   "cell_type": "markdown",
   "id": "a728759e-e6cf-4a0a-96fe-e08486d157a1",
   "metadata": {},
   "source": [
    "# comparison with PyMC"
   ]
  },
  {
   "cell_type": "code",
   "execution_count": 2,
   "id": "1e95989a-ca22-424e-9105-92a0cddb86bb",
   "metadata": {},
   "outputs": [],
   "source": [
    "N = 3000 # the number of data\n",
    "S = 500 # the number of Gibbs Sample\n",
    "np.random.seed(100) # fix seed\n",
    "X = np.random.poisson([3,20],(N,2))\n",
    "y = np.random.multinomial(1,[0.1,0.9],N) # true hidden compnent\n",
    "data = (X*y).sum(1) # Poisson Mixture sample"
   ]
  },
  {
   "cell_type": "code",
   "execution_count": 3,
   "id": "3dc4a44d-44b4-446e-99b6-4f0518f98c7b",
   "metadata": {},
   "outputs": [
    {
     "data": {
      "image/png": "[encoded data removed]",
      "text/plain": [
       "<Figure size 640x480 with 1 Axes>"
      ]
     },
     "metadata": {},
     "output_type": "display_data"
    }
   ],
   "source": [
    "plt.hist(data,np.linspace(0,data.max(),data.max()+1));"
   ]
  },
  {
   "cell_type": "code",
   "execution_count": 4,
   "id": "91c06069-fba3-48a0-bb58-b74bceb44f78",
   "metadata": {},
   "outputs": [],
   "source": [
    "cent = np.array([0.1,10]) # cent hyper parameter of Dirichlet prior\n",
    "shape = np.array([[1,],[1,],]) # shape hyper parameter of Gamma prior\n",
    "scale = np.array([[1,],[1,],]) # scale hyper parameter of Gamma prior"
   ]
  },
  {
   "cell_type": "code",
   "execution_count": 5,
   "id": "f30e5dc5-19bb-4c3a-8566-cac1df8609f0",
   "metadata": {},
   "outputs": [
    {
     "name": "stderr",
     "output_type": "stream",
     "text": [
      "Auto-assigning NUTS sampler...\n",
      "Initializing NUTS using jitter+adapt_diag...\n",
      "Multiprocess sampling (4 chains in 4 jobs)\n",
      "NUTS: [w, lam1, lam2]\n"
     ]
    },
    {
     "data": {
      "text/html": [
       "\n",
       "<style>\n",
       "    /* Turns off some styling */\n",
       "    progress {\n",
       "        /* gets rid of default border in Firefox and Opera. */\n",
       "        border: none;\n",
       "        /* Needs to be in here for Safari polyfill so background images work as expected. */\n",
       "        background-size: auto;\n",
       "    }\n",
       "    progress:not([value]), progress:not([value])::-webkit-progress-bar {\n",
       "        background: repeating-linear-gradient(45deg, #7e7e7e, #7e7e7e 10px, #5c5c5c 10px, #5c5c5c 20px);\n",
       "    }\n",
       "    .progress-bar-interrupted, .progress-bar-interrupted::-webkit-progress-bar {\n",
       "        background: #F44336;\n",
       "    }\n",
       "</style>\n"
      ],
      "text/plain": [
       "<IPython.core.display.HTML object>"
      ]
     },
     "metadata": {},
     "output_type": "display_data"
    },
    {
     "data": {
      "text/html": [
       "\n",
       "    <div>\n",
       "      <progress value='62000' class='' max='62000' style='width:300px; height:20px; vertical-align: middle;'></progress>\n",
       "      100.00% [62000/62000 00:16&lt;00:00 Sampling 4 chains, 0 divergences]\n",
       "    </div>\n",
       "    "
      ],
      "text/plain": [
       "<IPython.core.display.HTML object>"
      ]
     },
     "metadata": {},
     "output_type": "display_data"
    },
    {
     "name": "stderr",
     "output_type": "stream",
     "text": [
      "Sampling 4 chains for 15_000 tune and 500 draw iterations (60_000 + 2_000 draws total) took 17 seconds.\n",
      "The rhat statistic is larger than 1.01 for some parameters. This indicates problems during sampling. See https://arxiv.org/abs/1903.08008 for details\n",
      "The effective sample size per chain is smaller than 100 for some parameters.  A higher number is needed for reliable rhat and ess computation. See https://arxiv.org/abs/1903.08008 for details\n"
     ]
    },
    {
     "name": "stdout",
     "output_type": "stream",
     "text": [
      "Elapsed time: 20.690408945083618 sec.\n"
     ]
    },
    {
     "data": {
      "text/html": [
       "<div>\n",
       "<style scoped>\n",
       "    .dataframe tbody tr th:only-of-type {\n",
       "        vertical-align: middle;\n",
       "    }\n",
       "\n",
       "    .dataframe tbody tr th {\n",
       "        vertical-align: top;\n",
       "    }\n",
       "\n",
       "    .dataframe thead th {\n",
       "        text-align: right;\n",
       "    }\n",
       "</style>\n",
       "<table border=\"1\" class=\"dataframe\">\n",
       "  <thead>\n",
       "    <tr style=\"text-align: right;\">\n",
       "      <th></th>\n",
       "      <th>mean</th>\n",
       "      <th>sd</th>\n",
       "      <th>hdi_3%</th>\n",
       "      <th>hdi_97%</th>\n",
       "      <th>mcse_mean</th>\n",
       "      <th>mcse_sd</th>\n",
       "      <th>ess_bulk</th>\n",
       "      <th>ess_tail</th>\n",
       "      <th>r_hat</th>\n",
       "    </tr>\n",
       "  </thead>\n",
       "  <tbody>\n",
       "    <tr>\n",
       "      <th>w[0]</th>\n",
       "      <td>0.302</td>\n",
       "      <td>0.340</td>\n",
       "      <td>0.096</td>\n",
       "      <td>0.896</td>\n",
       "      <td>0.168</td>\n",
       "      <td>0.129</td>\n",
       "      <td>7.0</td>\n",
       "      <td>34.0</td>\n",
       "      <td>1.53</td>\n",
       "    </tr>\n",
       "    <tr>\n",
       "      <th>w[1]</th>\n",
       "      <td>0.698</td>\n",
       "      <td>0.340</td>\n",
       "      <td>0.104</td>\n",
       "      <td>0.904</td>\n",
       "      <td>0.168</td>\n",
       "      <td>0.129</td>\n",
       "      <td>7.0</td>\n",
       "      <td>34.0</td>\n",
       "      <td>1.53</td>\n",
       "    </tr>\n",
       "    <tr>\n",
       "      <th>lam1</th>\n",
       "      <td>7.302</td>\n",
       "      <td>7.310</td>\n",
       "      <td>2.910</td>\n",
       "      <td>20.049</td>\n",
       "      <td>3.625</td>\n",
       "      <td>2.774</td>\n",
       "      <td>7.0</td>\n",
       "      <td>29.0</td>\n",
       "      <td>1.53</td>\n",
       "    </tr>\n",
       "    <tr>\n",
       "      <th>lam2</th>\n",
       "      <td>15.741</td>\n",
       "      <td>7.307</td>\n",
       "      <td>2.986</td>\n",
       "      <td>20.124</td>\n",
       "      <td>3.624</td>\n",
       "      <td>2.773</td>\n",
       "      <td>7.0</td>\n",
       "      <td>31.0</td>\n",
       "      <td>1.53</td>\n",
       "    </tr>\n",
       "  </tbody>\n",
       "</table>\n",
       "</div>"
      ],
      "text/plain": [
       "        mean     sd  hdi_3%  hdi_97%  mcse_mean  mcse_sd  ess_bulk  ess_tail  \\\n",
       "w[0]   0.302  0.340   0.096    0.896      0.168    0.129       7.0      34.0   \n",
       "w[1]   0.698  0.340   0.104    0.904      0.168    0.129       7.0      34.0   \n",
       "lam1   7.302  7.310   2.910   20.049      3.625    2.774       7.0      29.0   \n",
       "lam2  15.741  7.307   2.986   20.124      3.624    2.773       7.0      31.0   \n",
       "\n",
       "      r_hat  \n",
       "w[0]   1.53  \n",
       "w[1]   1.53  \n",
       "lam1   1.53  \n",
       "lam2   1.53  "
      ]
     },
     "execution_count": 5,
     "metadata": {},
     "output_type": "execute_result"
    }
   ],
   "source": [
    "# PyMC\n",
    "with pm.Model() as model:\n",
    "    w = pm.Dirichlet('w', a=cent)  # 2 mixture weights\n",
    "\n",
    "    lam1 = pm.Gamma('lam1', shape[0,0], scale[0,0])\n",
    "    lam2 = pm.Gamma('lam2', shape[1,0], scale[1,0])\n",
    "\n",
    "    # As we just need the logp, rather than add a RV to the model, we need to call `.dist()`\n",
    "    # These two forms are equivalent, but the second benefits from vectorization\n",
    "    components = [\n",
    "        pm.Poisson.dist(mu=lam1),\n",
    "        pm.Poisson.dist(mu=lam2),\n",
    "    ]\n",
    "    # `shape=(2,)` indicates 2 mixture components\n",
    "    components = pm.Poisson.dist(mu=pm.math.stack([lam1, lam2]), shape=(2,))\n",
    "\n",
    "    like = pm.Mixture('like', w=w, comp_dists=components, observed=data)\n",
    "\n",
    "    # MCMC\n",
    "    with model:\n",
    "        st = time.time()\n",
    "        trace = pm.sample(S,tune=5*N)\n",
    "        ed = time.time()\n",
    "        print(f'Elapsed time: {ed-st} sec.')\n",
    "\n",
    "# show result\n",
    "pm.summary(trace)"
   ]
  },
  {
   "cell_type": "code",
   "execution_count": 6,
   "id": "8814a98d-25d1-4b6f-817a-3e645c302f35",
   "metadata": {},
   "outputs": [],
   "source": [
    "original = Poisson_Mixture_with_Dirichlet_Gamma_prior(data[:,np.newaxis])"
   ]
  },
  {
   "cell_type": "code",
   "execution_count": 7,
   "id": "0d6afa63-8e4c-4974-b9f9-560fea9e4b40",
   "metadata": {},
   "outputs": [],
   "source": [
    "original.set_model(2, cent=cent, shape=shape, scale=scale, L = 4)"
   ]
  },
  {
   "cell_type": "code",
   "execution_count": 8,
   "id": "cbda276c-32e8-445d-8b19-f97aa319367f",
   "metadata": {},
   "outputs": [
    {
     "name": "stdout",
     "output_type": "stream",
     "text": [
      "burn-in...\n"
     ]
    },
    {
     "name": "stderr",
     "output_type": "stream",
     "text": [
      "100%|██████████████████████████████████████████████████████████████████████████████████████████████████████████████████| 15000/15000 [00:01<00:00, 13227.96it/s]\n"
     ]
    },
    {
     "name": "stdout",
     "output_type": "stream",
     "text": [
      "sampling...\n"
     ]
    },
    {
     "name": "stderr",
     "output_type": "stream",
     "text": [
      "100%|██████████████████████████████████████████████████████████████████████████████████████████████████████████████████████| 500/500 [00:00<00:00, 12461.09it/s]"
     ]
    },
    {
     "name": "stdout",
     "output_type": "stream",
     "text": [
      "Elapsed time: 1.1852920055389404 sec.\n"
     ]
    },
    {
     "name": "stderr",
     "output_type": "stream",
     "text": [
      "\n"
     ]
    }
   ],
   "source": [
    "st = time.time()\n",
    "gs = original.GibbsSampling(S,burnin=5*N)\n",
    "ed = time.time()\n",
    "print(f'Elapsed time: {ed-st} sec.')"
   ]
  },
  {
   "cell_type": "code",
   "execution_count": 9,
   "id": "e01dda7c-54df-4973-a63a-70052232c536",
   "metadata": {},
   "outputs": [
    {
     "data": {
      "text/plain": [
       "(array([[0.89035443, 0.10964557],\n",
       "        [0.89046925, 0.10953075],\n",
       "        [0.10617295, 0.89382705],\n",
       "        [0.10620037, 0.89379963]]),\n",
       " array([[[19.96010919],\n",
       "         [ 3.09128559]],\n",
       " \n",
       "        [[19.95504838],\n",
       "         [ 3.08229848]],\n",
       " \n",
       "        [[ 3.07482782],\n",
       "         [19.95744353]],\n",
       " \n",
       "        [[ 3.07935363],\n",
       "         [19.95443316]]]))"
      ]
     },
     "execution_count": 9,
     "metadata": {},
     "output_type": "execute_result"
    }
   ],
   "source": [
    "gs[0].mean(0),gs[1].mean(0)"
   ]
  },
  {
   "cell_type": "code",
   "execution_count": null,
   "id": "d10643f5-8d90-462e-8a1b-96983d8b5f10",
   "metadata": {},
   "outputs": [],
   "source": []
  },
  {
   "cell_type": "code",
   "execution_count": null,
   "id": "237c67e8-9115-46ab-b534-638beab98cfb",
   "metadata": {},
   "outputs": [],
   "source": []
  },
  {
   "cell_type": "code",
   "execution_count": null,
   "id": "d61f065d-83d7-49d2-aaa0-2a13594c49f3",
   "metadata": {},
   "outputs": [],
   "source": []
  }
 ],
 "metadata": {
  "kernelspec": {
   "display_name": "Python 3 (ipykernel)",
   "language": "python",
   "name": "python3"
  },
  "language_info": {
   "codemirror_mode": {
    "name": "ipython",
    "version": 3
   },
   "file_extension": ".py",
   "mimetype": "text/x-python",
   "name": "python",
   "nbconvert_exporter": "python",
   "pygments_lexer": "ipython3",
   "version": "3.11.6"
  }
 },
 "nbformat": 4,
 "nbformat_minor": 5
}
