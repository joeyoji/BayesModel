{
 "cells": [
  {
   "cell_type": "code",
   "execution_count": 1,
   "id": "e04a821f",
   "metadata": {},
   "outputs": [],
   "source": [
    "import model.pmm"
   ]
  },
  {
   "cell_type": "code",
   "execution_count": 2,
   "id": "7318f703",
   "metadata": {},
   "outputs": [
    {
     "ename": "NameError",
     "evalue": "name 'Poisson_Mixture' is not defined",
     "output_type": "error",
     "traceback": [
      "\u001b[0;31m---------------------------------------------------------------------------\u001b[0m",
      "\u001b[0;31mNameError\u001b[0m                                 Traceback (most recent call last)",
      "Input \u001b[0;32mIn [2]\u001b[0m, in \u001b[0;36m<cell line: 1>\u001b[0;34m()\u001b[0m\n\u001b[0;32m----> 1\u001b[0m \u001b[43mPoisson_Mixture\u001b[49m\n",
      "\u001b[0;31mNameError\u001b[0m: name 'Poisson_Mixture' is not defined"
     ]
    }
   ],
   "source": [
    "Poisson_Mixture"
   ]
  },
  {
   "cell_type": "code",
   "execution_count": null,
   "id": "dc59336a",
   "metadata": {},
   "outputs": [],
   "source": []
  }
 ],
 "metadata": {
  "kernelspec": {
   "display_name": "Python 3 (ipykernel)",
   "language": "python",
   "name": "python3"
  },
  "language_info": {
   "codemirror_mode": {
    "name": "ipython",
    "version": 3
   },
   "file_extension": ".py",
   "mimetype": "text/x-python",
   "name": "python",
   "nbconvert_exporter": "python",
   "pygments_lexer": "ipython3",
   "version": "3.9.12"
  }
 },
 "nbformat": 4,
 "nbformat_minor": 5
}
