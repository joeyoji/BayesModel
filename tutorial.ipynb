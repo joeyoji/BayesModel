{
 "cells": [
  {
   "cell_type": "code",
   "execution_count": 1,
   "id": "e04a821f",
   "metadata": {},
   "outputs": [],
   "source": [
    "from model.pmm import *"
   ]
  },
  {
   "cell_type": "code",
   "execution_count": 2,
   "id": "7318f703",
   "metadata": {},
   "outputs": [
    {
     "data": {
      "text/plain": [
       "<model.pmm.Poisson_Mixture at 0x12b950130>"
      ]
     },
     "execution_count": 2,
     "metadata": {},
     "output_type": "execute_result"
    }
   ],
   "source": [
    "Poisson_Mixture(2,3,100)"
   ]
  },
  {
   "cell_type": "code",
   "execution_count": null,
   "id": "dc59336a",
   "metadata": {},
   "outputs": [],
   "source": []
  }
 ],
 "metadata": {
  "kernelspec": {
   "display_name": "Python 3 (ipykernel)",
   "language": "python",
   "name": "python3"
  },
  "language_info": {
   "codemirror_mode": {
    "name": "ipython",
    "version": 3
   },
   "file_extension": ".py",
   "mimetype": "text/x-python",
   "name": "python",
   "nbconvert_exporter": "python",
   "pygments_lexer": "ipython3",
   "version": "3.9.12"
  }
 },
 "nbformat": 4,
 "nbformat_minor": 5
}
