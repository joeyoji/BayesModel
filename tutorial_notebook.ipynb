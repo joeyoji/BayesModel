{
 "cells": [
  {
   "cell_type": "markdown",
   "id": "8fb3a909",
   "metadata": {
    "tags": []
   },
   "source": [
    "# 準備"
   ]
  },
  {
   "cell_type": "code",
   "execution_count": 1,
   "id": "82560b46-9d2d-4c90-8f6e-220621c73a83",
   "metadata": {},
   "outputs": [],
   "source": [
    "import numpy as np\n",
    "\n",
    "from model.pmm import Poisson_Mixture"
   ]
  },
  {
   "cell_type": "markdown",
   "id": "b4244bac-1c30-4429-b5b9-f2c0803f59e6",
   "metadata": {},
   "source": [
    "(BayesModel.)model.pmmにはPoisson_Mixtureクラスとtry_pmm_model関数がある."
   ]
  },
  {
   "cell_type": "code",
   "execution_count": 2,
   "id": "7318f703",
   "metadata": {},
   "outputs": [],
   "source": [
    "C_t = 2 #真のコンポーネント数\n",
    "D = 2 #データの次元\n",
    "mr_t = np.ones(C_t)/2 #真の混合比率\n",
    "tens_t = np.array([[4,1],[16,9]]) #真の強度パラメータ\n",
    "N = 1000 #データ数\n",
    "seed = 42 #ランダムシード\n",
    "\n",
    "poimix = Poisson_Mixture(mr_t,tens_t,N,seed) #初期化"
   ]
  },
  {
   "cell_type": "markdown",
   "id": "51792498-9da6-46a2-952d-7e4d1ea25874",
   "metadata": {
    "tags": []
   },
   "source": [
    "Poisson_Mixtureクラスの初期化の方法は3つある.\n",
    "\n",
    "    [1]データを代入する\n",
    "\n",
    "    [2]ポアソン混合分布のパラメータとデータ数の組を代入する\n",
    "\n",
    "    [3]ポアソン混合分布の構造とデータ数の組を代入する\n",
    "\n",
    "[1]は実用を想定している.\n",
    "[2]と[3]は人工データを生成する.ランダムシードも指定できる.\n",
    "ここでは[2]の方法で初期化している."
   ]
  },
  {
   "cell_type": "code",
   "execution_count": 3,
   "id": "dc59336a",
   "metadata": {},
   "outputs": [
    {
     "data": {
      "image/png": "[encoded data removed]",
      "text/plain": [
       "<Figure size 864x432 with 2 Axes>"
      ]
     },
     "metadata": {},
     "output_type": "display_data"
    }
   ],
   "source": [
    "poimix.view_data()"
   ]
  },
  {
   "cell_type": "markdown",
   "id": "319bb52d-82df-4fe1-a993-d0457c3de659",
   "metadata": {},
   "source": [
    "view_data()メソッドでクラスが保持しているデータを見ることができる.\n",
    "\n",
    "ただし(今の実装では)次元ごとで分かれているので,ある次元のどの山が別の次元のどれに対応しているのか判断はできないので注意.\n",
    "\n",
    "save=Trueを指定してpdf形式で図を保存することもできる."
   ]
  },
  {
   "cell_type": "code",
   "execution_count": 4,
   "id": "1f1a8151",
   "metadata": {},
   "outputs": [],
   "source": [
    "C = 2 #モデルのコンポーネント数\n",
    "poimix.set_model(C,seed=seed) #モデルを準備する"
   ]
  },
  {
   "cell_type": "markdown",
   "id": "3e767446-5162-4c4e-bc1a-aaa6e7351f39",
   "metadata": {},
   "source": [
    "set_model(C,cent,shape,scale,seed)メソッドでポアソン混合モデルの準備を行う.\n",
    "\n",
    "実装されている推論アルゴリズムは\n",
    "    \n",
    "    [1]ギブスサンプリング\n",
    "    [2]変分推論\n",
    "    [3]崩壊型ギブスサンプリング\n",
    "    \n",
    "の3種類である.ただしいずれも事前分布はディリクレ分布とガンマ分布で設定される.\n",
    "\n",
    "centはディリクレ分布の集中度,shapeとscaleはガンマ分布のそれぞれ形状母数と尺度を表す.指定しない場合は自動で設定される.\n",
    "\n",
    "seedで決まるのは(崩壊型も含む)ギブスサンプリングの初期パラメータである.\n",
    "\n",
    "変分推論については(今のところ)ハイパーパラメータに対称性がある(あるいは一律に設定されている)と機能しないので注意."
   ]
  },
  {
   "cell_type": "markdown",
   "id": "1e9784d0-5499-4229-9e07-63c1fe8c0f54",
   "metadata": {},
   "source": [
    "# ギブスサンプリング"
   ]
  },
  {
   "cell_type": "code",
   "execution_count": 5,
   "id": "efba87a2-e876-4b60-8cc6-ff0db15b9222",
   "metadata": {},
   "outputs": [
    {
     "data": {
      "application/vnd.jupyter.widget-view+json": {
       "model_id": "ff8a67b5d9ae4ee5aee91664204f210c",
       "version_major": 2,
       "version_minor": 0
      },
      "text/plain": [
       "  0%|          | 0/10000 [00:00<?, ?it/s]"
      ]
     },
     "metadata": {},
     "output_type": "display_data"
    }
   ],
   "source": [
    "ITER = 10000\n",
    "poimix.GibbsSampling(ITER,seed)"
   ]
  },
  {
   "cell_type": "markdown",
   "id": "14779bd1-8b64-431d-8419-7648757b471a",
   "metadata": {},
   "source": [
    "# 変分推論"
   ]
  },
  {
   "cell_type": "code",
   "execution_count": 6,
   "id": "44146fe1-bd91-4c06-a3d9-47b468f414b4",
   "metadata": {},
   "outputs": [
    {
     "data": {
      "application/vnd.jupyter.widget-view+json": {
       "model_id": "6345ddc825ef42b4ac4c782ab9eb0ca1",
       "version_major": 2,
       "version_minor": 0
      },
      "text/plain": [
       "  0%|          | 0/10000 [00:00<?, ?it/s]"
      ]
     },
     "metadata": {},
     "output_type": "display_data"
    }
   ],
   "source": [
    "poimix.VariationalInference(ITER)"
   ]
  },
  {
   "cell_type": "markdown",
   "id": "11384884-76be-462d-821f-75b27de8a0e7",
   "metadata": {},
   "source": [
    "# 崩壊型ギブスサンプリング"
   ]
  },
  {
   "cell_type": "code",
   "execution_count": 8,
   "id": "2f0b8f93-6bf7-4cee-bc87-877afa2cbe38",
   "metadata": {},
   "outputs": [
    {
     "data": {
      "application/vnd.jupyter.widget-view+json": {
       "model_id": "c3999d8c99244040aaeb01fff8cad698",
       "version_major": 2,
       "version_minor": 0
      },
      "text/plain": [
       "  0%|          | 0/10000 [00:00<?, ?it/s]"
      ]
     },
     "metadata": {},
     "output_type": "display_data"
    }
   ],
   "source": [
    "poimix.CollapsedGibbsSampling(ITER,seed)"
   ]
  },
  {
   "cell_type": "code",
   "execution_count": null,
   "id": "45ffb7cb-ebc4-4c99-9c34-36d7c43f31b1",
   "metadata": {},
   "outputs": [],
   "source": []
  }
 ],
 "metadata": {
  "kernelspec": {
   "display_name": "Python 3 (ipykernel)",
   "language": "python",
   "name": "python3"
  },
  "language_info": {
   "codemirror_mode": {
    "name": "ipython",
    "version": 3
   },
   "file_extension": ".py",
   "mimetype": "text/x-python",
   "name": "python",
   "nbconvert_exporter": "python",
   "pygments_lexer": "ipython3",
   "version": "3.9.12"
  }
 },
 "nbformat": 4,
 "nbformat_minor": 5
}
